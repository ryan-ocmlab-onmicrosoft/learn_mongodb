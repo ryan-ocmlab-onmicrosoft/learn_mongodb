{
 "cells": [
  {
   "attachments": {},
   "cell_type": "markdown",
   "metadata": {},
   "source": [
    "# Tech-with-Tim MongoDB tutorial 2"
   ]
  },
  {
   "attachments": {},
   "cell_type": "markdown",
   "metadata": {},
   "source": [
    "## create MongoDB client"
   ]
  },
  {
   "attachments": {},
   "cell_type": "markdown",
   "metadata": {},
   "source": [
    "## create book collection"
   ]
  },
  {
   "cell_type": "code",
   "execution_count": 1,
   "metadata": {},
   "outputs": [],
   "source": [
    "from pymongo import MongoClient\n",
    "import pprint\n",
    "from datetime import datetime as dt\n",
    "\n",
    "client = MongoClient(open(\"mongo_uri.txt\", \"r\").read().strip())\n",
    "production = client[\"production\"]\n",
    "\n",
    "printer = pprint.PrettyPrinter()"
   ]
  },
  {
   "attachments": {},
   "cell_type": "markdown",
   "metadata": {},
   "source": [
    "### create_book_collection"
   ]
  },
  {
   "cell_type": "code",
   "execution_count": 13,
   "metadata": {},
   "outputs": [],
   "source": [
    "def create_book_collection():\n",
    "    book_validator = {\n",
    "        \"$jsonSchema\": {\n",
    "            \"bsonType\": \"object\",\n",
    "            \"required\": [\"title\", \"authors\", \"published date\", \"type\", \"copies\"],\n",
    "            \"properties\": {\n",
    "                \"title\": {\n",
    "                    \"bsonType\": \"string\",\n",
    "                    \"description\": \"must be a string and is required\"\n",
    "                },\n",
    "                \"authors\": {\n",
    "                    \"bsonType\": \"array\",\n",
    "                    \"items\": {\n",
    "                        \"bsonType\": \"objectId\",\n",
    "                        \"description\": \"must be a objectId and is required\"\n",
    "                    }\n",
    "                },\n",
    "                \"published date\": {\n",
    "                    \"bsonType\": \"date\",\n",
    "                    \"description\": \"must be a date and is required\"\n",
    "                },\n",
    "                \"type\": {\n",
    "                    \"enum\": [\"Fiction\", \"Non-Fiction\"],\n",
    "                    \"description\": \"can only be one of the enum values and is required\"\n",
    "                },\n",
    "                \"copies\": {\n",
    "                    \"bsonType\": \"int\",\n",
    "                    \"minimum\": 0,\n",
    "                    \"description\": \"must be an integer greater than 0 and is required\"\n",
    "                }\n",
    "            }\n",
    "        }   \n",
    "    }\n",
    "\n",
    "    try:\n",
    "        production.create_collection(\"book\", validator=book_validator)\n",
    "    except Exception as e:\n",
    "        print(e)\n",
    "\n",
    "create_book_collection()"
   ]
  },
  {
   "attachments": {},
   "cell_type": "markdown",
   "metadata": {},
   "source": [
    "### create_author_collection"
   ]
  },
  {
   "cell_type": "code",
   "execution_count": 14,
   "metadata": {},
   "outputs": [],
   "source": [
    "def create_author_collection():\n",
    "    author_validator = {\n",
    "        \"$jsonSchema\": {\n",
    "            \"bsonType\": \"object\",\n",
    "            \"required\": [\"first_name\", \"last_name\", \"date_of_birth\"],\n",
    "            \"properties\": {\n",
    "                \"first_name\": {\n",
    "                    \"bsonType\": \"string\",\n",
    "                    \"description\": \"must be a string and is required\"\n",
    "                },\n",
    "                \"last_name\": {\n",
    "                    \"bsonType\": \"string\",\n",
    "                    \"description\": \"must be a string and is required\"\n",
    "                },\n",
    "                \"date_of_birth\": {\n",
    "                    \"bsonType\": \"date\",\n",
    "                    \"description\": \"must be a date and is required\"\n",
    "                },\n",
    "            }\n",
    "        }\n",
    "    }\n",
    "    try:\n",
    "        production.create_collection(\"author\", validator=author_validator)\n",
    "    except Exception as e:\n",
    "        print(e)\n",
    "\n",
    "create_author_collection()\n"
   ]
  },
  {
   "attachments": {},
   "cell_type": "markdown",
   "metadata": {},
   "source": [
    "### create_data"
   ]
  },
  {
   "cell_type": "code",
   "execution_count": null,
   "metadata": {},
   "outputs": [],
   "source": [
    "from datetime import datetime as dt\n",
    "def create_data():\n",
    "    authors = [\n",
    "        {\n",
    "            \"first_name\": \"Tim\",\n",
    "            \"last_name\": \"Ruscica\",\n",
    "            \"date_of_birth\": dt(2000,7,20)\n",
    "        },\n",
    "        {\n",
    "            \"first_name\": \"George\",\n",
    "            \"last_name\": \"Orwell\",\n",
    "            \"date_of_birth\": dt(1903,6,25)\n",
    "        },\n",
    "        {\n",
    "            \"first_name\": \"Herman\",\n",
    "            \"last_name\": \"Melville\",\n",
    "            \"date_of_birth\": dt(1819,8,1)\n",
    "        },\n",
    "        {\n",
    "            \"first_name\": \"F. Scott\",\n",
    "            \"last_name\": \"Fitzgerald\",\n",
    "            \"date_of_birth\": dt(1896,9,24)\n",
    "        }\n",
    "    ]\n",
    "    author_collection = production.author\n",
    "    authors = author_collection.insert_many(authors).inserted_ids\n",
    "\n",
    "    books = [\n",
    "        {\n",
    "            \"title\": \"MongoDB Advanced Tutorial\",\n",
    "            \"authors\": [authors[0]],\n",
    "            \"published date\": dt.today(),\n",
    "            \"type\": \"Non-Fiction\",\n",
    "            \"copies\": 5\n",
    "        },\n",
    "        {\n",
    "            \"title\": \"Python for Dummies\",\n",
    "            \"authors\": [authors[0]],\n",
    "            \"published date\": dt(2022,1,17),\n",
    "            \"type\": \"Non-Fiction\",\n",
    "            \"copies\": 5\n",
    "        },\n",
    "        {\n",
    "            \"title\": \"Nineteeen Eighty-Four\",\n",
    "            \"authors\": [authors[1]],\n",
    "            \"published date\": dt(1949,6,8),\n",
    "            \"type\": \"Fiction\",\n",
    "            \"copies\": 5\n",
    "        },\n",
    "        {\n",
    "            \"title\": \"The Great Gatsby\",\n",
    "            \"authors\": [authors[3]],\n",
    "            \"published date\": dt(2014, 5, 23),\n",
    "            \"type\": \"Fiction\",\n",
    "            \"copies\": 5\n",
    "        },\n",
    "        {\n",
    "            \"title\": \"Moby Dick\",\n",
    "            \"authors\": [authors[2]],\n",
    "            \"published date\": dt(1851, 9,24),\n",
    "            \"type\": \"Fiction\",\n",
    "            \"copies\": 5\n",
    "        },\n",
    "    ]\n",
    "    book_collection = production.book\n",
    "    books = book_collection.insert_many(books).inserted_ids\n",
    "\n",
    "create_data()"
   ]
  }
 ],
 "metadata": {
  "kernelspec": {
   "display_name": ".venv",
   "language": "python",
   "name": "python3"
  },
  "language_info": {
   "codemirror_mode": {
    "name": "ipython",
    "version": 3
   },
   "file_extension": ".py",
   "mimetype": "text/x-python",
   "name": "python",
   "nbconvert_exporter": "python",
   "pygments_lexer": "ipython3",
   "version": "3.9.6"
  },
  "orig_nbformat": 4
 },
 "nbformat": 4,
 "nbformat_minor": 2
}
