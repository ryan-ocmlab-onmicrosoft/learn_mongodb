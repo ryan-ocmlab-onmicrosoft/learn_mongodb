{
 "cells": [
  {
   "cell_type": "code",
   "execution_count": 2,
   "metadata": {},
   "outputs": [
    {
     "name": "stdout",
     "output_type": "stream",
     "text": [
      "{'title': 'Gertie the Dinosaur'}\n",
      "{'title': 'Germany Year Zero'}\n",
      "{'title': 'Germany in Autumn'}\n",
      "{'title': 'Germany Pale Mother'}\n",
      "{'title': 'Gerhard Richter - Painting'}\n",
      "{'title': 'Geronimo: An American Legend'}\n",
      "{'title': 'How to Live in the German Federal Republic'}\n",
      "{'title': \"Geri's Game\"}\n",
      "{'title': 'The Gerson Miracle'}\n",
      "{'title': 'The German Doctor'}\n",
      "{'title': 'From Caligari to Hitler: German Cinema in the Age of the Masses'}\n",
      "{'title': 'From Caligari to Hitler: German Cinema in the Age of the Masses'}\n",
      "{'title': 'Gervaise'}\n",
      "{'title': 'Gertrud'}\n",
      "{'title': 'Germinal'}\n",
      "{'title': 'Gerry'}\n",
      "{'title': 'Gèraldine'}\n",
      "{'title': 'Gerontophilia'}\n",
      "{'title': 'Pionery-geroi'}\n",
      "{'title': 'Rece do gèry'}\n"
     ]
    }
   ],
   "source": [
    "from pymongo import MongoClient\n",
    "import pprint\n",
    "\n",
    "# read uri from file\n",
    "uri = open(\"mongo_uri.txt\").read().strip()\n",
    "client = MongoClient(uri)\n",
    "\n",
    "\n",
    "# define pipeline\n",
    "pipeline = [\n",
    "    {\"$search\": {\"index\": \"default\", \"autocomplete\": {\"query\": \"Bla\", \"path\": \"title\"}}},\n",
    "    {\"$limit\": 20},\n",
    "    {\"$project\": {\"_id\": 0, \"title\": 1}},\n",
    "]\n",
    "# run pipeline\n",
    "result = client[\"sample_mflix\"][\"movies\"].aggregate(pipeline)\n",
    "\n",
    "# print results\n",
    "for i in result:\n",
    "    print(i)\n"
   ]
  }
 ],
 "metadata": {
  "kernelspec": {
   "display_name": ".venv",
   "language": "python",
   "name": "python3"
  },
  "language_info": {
   "codemirror_mode": {
    "name": "ipython",
    "version": 3
   },
   "file_extension": ".py",
   "mimetype": "text/x-python",
   "name": "python",
   "nbconvert_exporter": "python",
   "pygments_lexer": "ipython3",
   "version": "3.9.6"
  },
  "orig_nbformat": 4
 },
 "nbformat": 4,
 "nbformat_minor": 2
}
