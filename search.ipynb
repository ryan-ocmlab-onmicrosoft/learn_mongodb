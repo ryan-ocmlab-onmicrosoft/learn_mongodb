{
 "cells": [
  {
   "cell_type": "code",
   "execution_count": null,
   "metadata": {},
   "outputs": [],
   "source": [
    "from pymongo import MongoClient\n",
    "import pprint\n",
    "\n",
    "# read uri from file\n",
    "uri = open(\"mongo_uri.txt\").read().strip()\n",
    "client = MongoClient(uri)\n",
    "\n",
    "pp = pprint.PrettyPrinter(indent=2)\n",
    "\n",
    "# dynamic index search\n",
    "\n",
    "pipeline = [\n",
    "  {\"$search\": {\"index\": \"default\",\"text\": {\"query\": \"notepad\",\"path\": {\"wildcard\": \"*\"}}}}\n",
    "]\n",
    "\n",
    "result = client['sample_supplies']['sales'].aggregate(pipeline)\n",
    "\n",
    "for i in result:\n",
    "    pp.pprint(i)"
   ]
  },
  {
   "cell_type": "code",
   "execution_count": null,
   "metadata": {},
   "outputs": [],
   "source": [
    "# autocomplete query\n",
    "\n",
    "# define pipeline\n",
    "pipeline = [\n",
    "    {\"$search\": {\"index\": \"movie_search\", \"autocomplete\": {\"query\": \"Bla\", \"path\": \"title\"}}},\n",
    "    {\"$limit\": 20},\n",
    "    {\"$project\": {\"_id\": 1, \"title\": 1, \"directors\": 1}}\n",
    "]\n",
    "# run pipeline\n",
    "result = client[\"sample_mflix\"][\"movies\"].aggregate(pipeline)\n",
    "\n",
    "# print results\n",
    "for i in result:\n",
    "    pp.pprint(i)\n"
   ]
  },
  {
   "cell_type": "code",
   "execution_count": null,
   "metadata": {},
   "outputs": [],
   "source": [
    "# compound search\n",
    "\n",
    "# define pipeline\n",
    "pipeline = [\n",
    "    {\n",
    "        '$search': {\n",
    "            'compound': {\n",
    "                'filter': [{'text': {'query': 'Online', 'path': 'purchaseMethod'}}], \n",
    "                'should': [{'text': {'query': 'notepad', 'path': 'items'}}]\n",
    "            }\n",
    "        }\n",
    "    }\n",
    "]\n",
    "\n",
    "result = client['sample_supplies']['sales'].aggregate(pipeline)\n",
    "\n",
    "for i in result:\n",
    "    pp.pprint(i)"
   ]
  }
 ],
 "metadata": {
  "kernelspec": {
   "display_name": ".venv",
   "language": "python",
   "name": "python3"
  },
  "language_info": {
   "codemirror_mode": {
    "name": "ipython",
    "version": 3
   },
   "file_extension": ".py",
   "mimetype": "text/x-python",
   "name": "python",
   "nbconvert_exporter": "python",
   "pygments_lexer": "ipython3",
   "version": "3.9.2"
  },
  "orig_nbformat": 4
 },
 "nbformat": 4,
 "nbformat_minor": 2
}
