{
 "cells": [
  {
   "attachments": {},
   "cell_type": "markdown",
   "metadata": {},
   "source": [
    "# Tech-with-Tim MongoDB tutorial 1"
   ]
  },
  {
   "attachments": {},
   "cell_type": "markdown",
   "metadata": {},
   "source": [
    "## Connect to MongoDB"
   ]
  },
  {
   "cell_type": "code",
   "execution_count": null,
   "metadata": {},
   "outputs": [],
   "source": [
    "import pprint\n",
    "from pymongo import MongoClient\n",
    "\n",
    "client = MongoClient(open(\"mongo_uri.txt\", \"r\").read().strip())\n",
    "\n",
    "dbs = client.list_database_names()\n",
    "test_db = client[\"test\"]\n",
    "collections = test_db.list_collection_names()\n",
    "print(collections)"
   ]
  },
  {
   "attachments": {},
   "cell_type": "markdown",
   "metadata": {},
   "source": [
    "### Create Documents"
   ]
  },
  {
   "cell_type": "code",
   "execution_count": null,
   "metadata": {},
   "outputs": [],
   "source": [
    "production = client[\"production\"]\n",
    "person_collection = production[\"person_collection\"]\n",
    "person_collection.drop()\n",
    "\n",
    "def create_documents():\n",
    "    first_names = [\"Tim\", \"Sarah\", \"Jennifer\", \"Jose\", \"Brad\", \"Allen\"]\n",
    "    last_names = [\"Ruscica\", \"Smith\", \"Bart\", \"Cater\", \"Pit\", \"Geral\"]\n",
    "    ages = [21, 40, 23, 19, 34, 67]\n",
    "\n",
    "    docs = []\n",
    "\n",
    "    for first_name, last_name, age in zip(first_names, last_names, ages):\n",
    "        doc = {\n",
    "            \"first_name\": first_name,\n",
    "            \"last_name\": last_name,\n",
    "            \"age\": age\n",
    "        }\n",
    "        docs.append(doc)\n",
    "    \n",
    "    person_collection.insert_many(docs)\n",
    "\n",
    "create_documents()"
   ]
  },
  {
   "cell_type": "code",
   "execution_count": null,
   "metadata": {},
   "outputs": [],
   "source": [
    "printer = pprint.PrettyPrinter()\n",
    "\n",
    "def find_all_people():\n",
    "    people = person_collection.find()\n",
    "\n",
    "    for person in people:\n",
    "        printer.pprint(person)\n",
    "\n",
    "find_all_people()"
   ]
  },
  {
   "cell_type": "code",
   "execution_count": null,
   "metadata": {},
   "outputs": [],
   "source": [
    "def find_tim():\n",
    "    tim = person_collection.find_one({\n",
    "        \"first_name\": \"Tim\",\n",
    "        \"last_name\": \"Ruscica\"\n",
    "        })\n",
    "    printer.pprint(tim)\n",
    "\n",
    "find_tim()"
   ]
  },
  {
   "cell_type": "code",
   "execution_count": null,
   "metadata": {},
   "outputs": [],
   "source": [
    "def count_all_people():\n",
    "    count = person_collection.count_documents(filter={})\n",
    "    print(\"Number of people: \", count)\n",
    "\n",
    "count_all_people()"
   ]
  },
  {
   "cell_type": "code",
   "execution_count": null,
   "metadata": {},
   "outputs": [],
   "source": [
    "def get_person_by_id(person_id):\n",
    "    from bson.objectid import ObjectId\n",
    "    _id = ObjectId(person_id)\n",
    "    person = person_collection.find_one({\"_id\": _id})\n",
    "    printer.pprint(person)\n",
    "\n",
    "get_person_by_id(\"646ee476734bb880162bea40\")"
   ]
  },
  {
   "cell_type": "code",
   "execution_count": null,
   "metadata": {},
   "outputs": [],
   "source": [
    "def get_age_range(min_age, max_age):\n",
    "    query = {\n",
    "            \"$and\": [\n",
    "                {\"age\": {\"$gte\": min_age}},\n",
    "                {\"age\": {\"$lte\": max_age}}\n",
    "            ]\n",
    "        }\n",
    "\n",
    "    people = person_collection.find(query).sort(\"age\")\n",
    "    for person in people:\n",
    "        printer.pprint(person)\n",
    "\n",
    "get_age_range(20, 35)"
   ]
  },
  {
   "cell_type": "code",
   "execution_count": null,
   "metadata": {},
   "outputs": [],
   "source": [
    "def project_columns():\n",
    "    columns = {\"_id\": 0, \"first_name\": 1, \"last_name\": 1}\n",
    "    people = person_collection.find({}, columns)\n",
    "    for person in people:\n",
    "        printer.pprint(person)\n",
    "\n",
    "project_columns()"
   ]
  },
  {
   "cell_type": "code",
   "execution_count": null,
   "metadata": {},
   "outputs": [],
   "source": [
    "def update_person_by_id(person_id):\n",
    "    from bson.objectid import ObjectId\n",
    "\n",
    "    _id = ObjectId(person_id)\n",
    "\n",
    "    all_updates = {\n",
    "        \"$set\": { \"first_name\": \"first\", \"last_name\": \"last\" },\n",
    "        # \"$inc\": { \"age\": 1 },\n",
    "        # \"$rename\": { \"first\": \"first\", \"last\": \"last\" }\n",
    "    }\n",
    "    person_collection.update_one({\"_id\": _id}, all_updates)\n",
    "\n",
    "update_person_by_id(\"646ee476734bb880162bea40\")"
   ]
  }
 ],
 "metadata": {
  "kernelspec": {
   "display_name": ".venv",
   "language": "python",
   "name": "python3"
  },
  "language_info": {
   "codemirror_mode": {
    "name": "ipython",
    "version": 3
   },
   "file_extension": ".py",
   "mimetype": "text/x-python",
   "name": "python",
   "nbconvert_exporter": "python",
   "pygments_lexer": "ipython3",
   "version": "3.9.6"
  },
  "orig_nbformat": 4
 },
 "nbformat": 4,
 "nbformat_minor": 2
}
